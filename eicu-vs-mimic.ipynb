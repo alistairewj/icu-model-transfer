{
 "cells": [
  {
   "cell_type": "code",
   "execution_count": 1,
   "metadata": {},
   "outputs": [
    {
     "name": "stderr",
     "output_type": "stream",
     "text": [
      "/home/alistairewj/.virtualenvs/icu-model-transfer/lib/python3.5/site-packages/psycopg2/__init__.py:144: UserWarning: The psycopg2 wheel package will be renamed from release 2.8; in order to keep installing from binary please use \"pip install psycopg2-binary\" instead. For details see: <http://initd.org/psycopg/docs/install.html#binary-install-from-pypi>.\n",
      "  \"\"\")\n"
     ]
    }
   ],
   "source": [
    "# Import libraries\n",
    "import numpy as np\n",
    "import pandas as pd\n",
    "import matplotlib.pyplot as plt\n",
    "\n",
    "import sys\n",
    "import os\n",
    "import datetime as dt\n",
    "\n",
    "from copy import deepcopy\n",
    "\n",
    "import sklearn\n",
    "from sklearn.pipeline import Pipeline\n",
    "from sklearn.preprocessing import Imputer\n",
    "from sklearn.preprocessing import StandardScaler\n",
    "\n",
    "# logistic regression is our favourite model ever\n",
    "from sklearn import linear_model\n",
    "\n",
    "# used to calculate AUROC/accuracy\n",
    "from sklearn import metrics\n",
    "\n",
    "# local utils\n",
    "import utils\n",
    "\n",
    "import xgboost as xgb\n",
    "\n",
    "import pickle\n",
    "\n",
    "# default colours/marker/linestyles for prettier plots\n",
    "col = [[0.9047, 0.1918, 0.1988],\n",
    "    [0.2941, 0.5447, 0.7494],\n",
    "    [0.3718, 0.7176, 0.3612],\n",
    "    [1.0000, 0.5482, 0.1000],\n",
    "    [0.4550, 0.4946, 0.4722],\n",
    "    [0.6859, 0.4035, 0.2412],\n",
    "    [0.9718, 0.5553, 0.7741],\n",
    "    [0.5313, 0.3359, 0.6523]];\n",
    "marker = ['v','o','d','^','s','o','+']\n",
    "ls = ['-','-','-','-','-','s','--','--']\n",
    "\n",
    "%matplotlib inline"
   ]
  },
  {
   "cell_type": "code",
   "execution_count": 2,
   "metadata": {},
   "outputs": [],
   "source": [
    "plt.style.use('ggplot')\n",
    "plt.rcParams.update({'font.size': 20, 'xtick.labelsize': 16, 'ytick.labelsize': 16})"
   ]
  },
  {
   "cell_type": "code",
   "execution_count": 3,
   "metadata": {},
   "outputs": [
    {
     "name": "stdout",
     "output_type": "stream",
     "text": [
      "=== MIMIC ===\n",
      "mimic - 27940 observations. Outcome rate: 9.57%.\n",
      "=== eICU ===\n",
      "Retaining 119 of 179 hospitals.\n",
      "eICU  - 67540 observations. Outcome rate: 7.47%.\n"
     ]
    }
   ],
   "source": [
    "print('=== MIMIC ===')\n",
    "X_mimic = pd.read_csv('X_mimic_day1.csv.gz', sep=',', index_col=0)\n",
    "\n",
    "var_other = ['hospitalid', 'death', 'hosp_los', 'ventdays']\n",
    "df_mimic = X_mimic[var_other]\n",
    "\n",
    "# convenient reference to death column\n",
    "y_mimic = X_mimic['death'].values\n",
    "X_mimic = X_mimic.drop(var_other,axis=1).values\n",
    "\n",
    "print('{:5s} - {} observations. Outcome rate: {:2.2f}%.'.format(\n",
    "        'mimic', X_mimic.shape[0], 100.0*np.mean(y_mimic)))\n",
    "\n",
    "print('=== eICU ===')\n",
    "X_eicu = pd.read_csv('X_eicu_day1.csv.gz', sep=',', index_col=0)\n",
    "\n",
    "hosp_to_keep = X_eicu['hospitalid'].value_counts()\n",
    "hosp_to_keep = hosp_to_keep[hosp_to_keep>=100].index.values\n",
    "print('Retaining {} of {} hospitals.'.format(len(hosp_to_keep), X_eicu['hospitalid'].nunique()))\n",
    "\n",
    "X_eicu = X_eicu.loc[X_eicu['hospitalid'].isin(hosp_to_keep), :]\n",
    "\n",
    "var_other = ['hospitalid', 'death', 'hosp_los', 'ventdays']\n",
    "df_eicu = X_eicu[var_other]\n",
    "\n",
    "# convenient reference to death column\n",
    "y_eicu = X_eicu['death'].values\n",
    "X_eicu = X_eicu.drop(var_other,axis=1).values\n",
    "\n",
    "print('{:5s} - {} observations. Outcome rate: {:2.2f}%.'.format(\n",
    "        'eICU', X_eicu.shape[0], 100.0*np.mean(y_eicu)))"
   ]
  },
  {
   "cell_type": "markdown",
   "metadata": {},
   "source": [
    "## Logistic Regression"
   ]
  },
  {
   "cell_type": "code",
   "execution_count": 4,
   "metadata": {},
   "outputs": [],
   "source": [
    "if os.path.exists('lr_mdl.pkl'):\n",
    "    with open('lr_mdl.pkl', 'rb') as fp:\n",
    "        lr_mdl = pickle.load(fp)\n",
    "else:\n",
    "    np.random.seed(71017)\n",
    "\n",
    "    X = X_mimic\n",
    "    y = y_mimic\n",
    "\n",
    "    base_mdl = linear_model.LogisticRegressionCV(Cs=10, penalty='l2', cv=5)\n",
    "\n",
    "    estimator = Pipeline([(\"imputer\", Imputer(missing_values='NaN',\n",
    "                                      strategy=\"mean\",\n",
    "                                      axis=0)),\n",
    "                  (\"scaler\", StandardScaler()),\n",
    "                  ('model', base_mdl)]) \n",
    "\n",
    "    # train model\n",
    "    lr_mdl = estimator.fit(X, y)\n",
    "    lr_prob = estimator.predict_proba(X)[:,1]\n",
    "    auc = metrics.roc_auc_score(y, lr_prob)\n",
    "    print('Training set AUROC: {:0.3f}'.format(auc))\n",
    "    with open('lr_mdl.pkl', 'wb') as fp:\n",
    "        pickle.dump(lr_mdl, fp)"
   ]
  },
  {
   "cell_type": "markdown",
   "metadata": {},
   "source": [
    "## Evaluate model on eICU"
   ]
  },
  {
   "cell_type": "code",
   "execution_count": 23,
   "metadata": {},
   "outputs": [],
   "source": [
    "def hospital_stats(x, outcome='death'):\n",
    "    d = {}\n",
    "    # calculate SMR\n",
    "    d['count'] = x[outcome].count()\n",
    "    d['outcome'] = x[outcome].sum()\n",
    "    \n",
    "    d['smr'] = x[outcome].sum() / x['prob'].sum()\n",
    "    if len(np.unique(x[outcome]))<=1:\n",
    "        d['auc'] = np.nan\n",
    "    else:\n",
    "        d['auc'] = metrics.roc_auc_score(x[outcome], x['prob'])\n",
    "    return pd.Series(d)"
   ]
  },
  {
   "cell_type": "code",
   "execution_count": 24,
   "metadata": {},
   "outputs": [
    {
     "name": "stdout",
     "output_type": "stream",
     "text": [
      "eICU overall AUROC: 0.828\n",
      "eICU overall SMR:   3.432\n"
     ]
    }
   ],
   "source": [
    "lr_prob = lr_mdl.predict_proba(X_eicu)[:,1]\n",
    "\n",
    "# add predictions to dataframe\n",
    "df_eicu['prob'] = lr_prob\n",
    "\n",
    "# scatter plot grouped by hospital\n",
    "h_stats = df_eicu.groupby('hospitalid').apply(hospital_stats)\n",
    "\n",
    "# overall auroc\n",
    "auc = metrics.roc_auc_score(df_eicu['death'], df_eicu['prob'])\n",
    "print('eICU overall AUROC: {:0.3f}'.format(auc))\n",
    "print('eICU overall SMR:   {:0.3f}'.format(df_eicu['death'].sum() / df_eicu['prob'].sum()))"
   ]
  },
  {
   "cell_type": "markdown",
   "metadata": {},
   "source": [
    "### Loop through eICU hospitals and re-train"
   ]
  },
  {
   "cell_type": "code",
   "execution_count": 32,
   "metadata": {},
   "outputs": [],
   "source": [
    "# select hospitals with at least 500 patients\n",
    "hosp_list = df_eicu['hospitalid'].value_counts()\n",
    "hosp_list = hosp_list[hosp_list>=500].index.values"
   ]
  },
  {
   "cell_type": "code",
   "execution_count": 44,
   "metadata": {
    "scrolled": true
   },
   "outputs": [
    {
     "name": "stdout",
     "output_type": "stream",
     "text": [
      "2018-04-20 16:41:41.028022 - Finished 1 of 46. AUROC 0.851.\n",
      "2018-04-20 16:41:45.078267 - Finished 2 of 46. AUROC 0.839.\n",
      "2018-04-20 16:41:48.789925 - Finished 3 of 46. AUROC 0.849.\n",
      "2018-04-20 16:41:52.445601 - Finished 4 of 46. AUROC 0.887.\n",
      "2018-04-20 16:41:55.957584 - Finished 5 of 46. AUROC 0.857.\n",
      "2018-04-20 16:41:59.799819 - Finished 6 of 46. AUROC 0.887.\n",
      "2018-04-20 16:42:02.618941 - Finished 7 of 46. AUROC 0.810.\n",
      "2018-04-20 16:42:06.929513 - Finished 8 of 46. AUROC 0.867.\n",
      "2018-04-20 16:42:10.214601 - Finished 9 of 46. AUROC 0.830.\n",
      "2018-04-20 16:42:13.889505 - Finished 10 of 46. AUROC 0.874.\n",
      "2018-04-20 16:42:17.972457 - Finished 11 of 46. AUROC 0.874.\n",
      "2018-04-20 16:42:21.797282 - Finished 12 of 46. AUROC 0.839.\n",
      "2018-04-20 16:42:25.223623 - Finished 13 of 46. AUROC 0.797.\n",
      "2018-04-20 16:42:28.842934 - Finished 14 of 46. AUROC 0.851.\n",
      "2018-04-20 16:42:33.178381 - Finished 15 of 46. AUROC 0.850.\n",
      "2018-04-20 16:42:37.004386 - Finished 16 of 46. AUROC 0.723.\n",
      "2018-04-20 16:42:40.726427 - Finished 17 of 46. AUROC 0.910.\n",
      "2018-04-20 16:42:44.017046 - Finished 18 of 46. AUROC 0.850.\n",
      "2018-04-20 16:42:47.143014 - Finished 19 of 46. AUROC 0.843.\n",
      "2018-04-20 16:42:51.161991 - Finished 20 of 46. AUROC 0.798.\n",
      "2018-04-20 16:42:54.448875 - Finished 21 of 46. AUROC 0.821.\n",
      "2018-04-20 16:42:57.801943 - Finished 22 of 46. AUROC 0.806.\n",
      "2018-04-20 16:43:00.803393 - Finished 23 of 46. AUROC 0.827.\n",
      "2018-04-20 16:43:03.876425 - Finished 24 of 46. AUROC 0.751.\n",
      "2018-04-20 16:43:07.219720 - Finished 25 of 46. AUROC 0.814.\n",
      "2018-04-20 16:43:10.437282 - Finished 26 of 46. AUROC 0.752.\n",
      "2018-04-20 16:43:13.447856 - Finished 27 of 46. AUROC 0.767.\n",
      "2018-04-20 16:43:16.314339 - Finished 28 of 46. AUROC 0.792.\n",
      "2018-04-20 16:43:18.511967 - Finished 29 of 46. AUROC 0.780.\n",
      "2018-04-20 16:43:21.206005 - Finished 30 of 46. AUROC 0.726.\n",
      "2018-04-20 16:43:23.919187 - Finished 31 of 46. AUROC 0.824.\n",
      "2018-04-20 16:43:27.037019 - Finished 32 of 46. AUROC 0.796.\n",
      "2018-04-20 16:43:30.110656 - Finished 33 of 46. AUROC 0.687.\n",
      "2018-04-20 16:43:33.034139 - Finished 34 of 46. AUROC 0.896.\n",
      "2018-04-20 16:43:35.529089 - Finished 35 of 46. AUROC 0.751.\n",
      "2018-04-20 16:43:37.992484 - Finished 36 of 46. AUROC 0.876.\n",
      "2018-04-20 16:43:40.368168 - Finished 37 of 46. AUROC 0.780.\n",
      "2018-04-20 16:43:43.244977 - Finished 38 of 46. AUROC 0.870.\n",
      "2018-04-20 16:43:46.154914 - Finished 39 of 46. AUROC 0.861.\n",
      "2018-04-20 16:43:48.932533 - Finished 40 of 46. AUROC 0.860.\n",
      "2018-04-20 16:43:51.341475 - Finished 41 of 46. AUROC 0.868.\n",
      "2018-04-20 16:43:54.058339 - Finished 42 of 46. AUROC 0.881.\n",
      "2018-04-20 16:43:56.119367 - Finished 43 of 46. AUROC 0.819.\n",
      "2018-04-20 16:43:58.605563 - Finished 44 of 46. AUROC 0.825.\n",
      "2018-04-20 16:44:01.310362 - Finished 45 of 46. AUROC 0.822.\n",
      "2018-04-20 16:44:04.057174 - Finished 46 of 46. AUROC 0.812.\n"
     ]
    }
   ],
   "source": [
    "np.random.seed(345)\n",
    "\n",
    "\n",
    "# parameters from grid search\n",
    "models = {'l2': linear_model.LogisticRegressionCV(n_jobs=4),\n",
    "          'xgb': xgb.XGBClassifier(colsample_bytree=0.7, silent=1,\n",
    "                            learning_rate=0.01, n_estimators=1000,\n",
    "                            subsample=0.8, max_depth=9, n_jobs=4)\n",
    "         }\n",
    "\n",
    "# choose a model\n",
    "mdl = 'l2'\n",
    "K = 5\n",
    "hospital_auroc = dict()\n",
    "hospital_smr = dict()\n",
    "\n",
    "for i, h in enumerate(hosp_list):\n",
    "    idxKeep = df_eicu['hospitalid'] == h\n",
    "    \n",
    "    hospital_auroc[h] = list()\n",
    "    hospital_smr[h] = list()\n",
    "    \n",
    "    # get current hosp data\n",
    "    X = X_eicu[idxKeep, :]\n",
    "    y = y_eicu[idxKeep]\n",
    "    \n",
    "    idxK = np.random.permutation(X.shape[0])\n",
    "    idxK = idxK % K\n",
    "\n",
    "    if mdl == 'xgb':\n",
    "        # no pre-processing of data necessary for xgb\n",
    "        estimator = Pipeline([(mdl, models[mdl])])\n",
    "\n",
    "    else:\n",
    "        estimator = Pipeline([(\"imputer\", Imputer(missing_values='NaN',\n",
    "                                          strategy=\"mean\",\n",
    "                                          axis=0)),\n",
    "                      (\"scaler\", StandardScaler()),\n",
    "                      (mdl, models[mdl])]) \n",
    "    \n",
    "    curr_prob_all = np.zeros(X.shape[0])\n",
    "    for k in range(K):\n",
    "        # train the model using all but the kth fold\n",
    "        curr_mdl = sklearn.base.clone(estimator).fit(X[idxK != k, :], y[idxK != k])\n",
    "\n",
    "        # get prediction on this dataset\n",
    "        if mdl in ('lasso','ridge'):\n",
    "            curr_prob = curr_mdl.predict(X[idxK == k, :])\n",
    "        else:\n",
    "            curr_prob = curr_mdl.predict_proba(X[idxK == k, :])\n",
    "            curr_prob = curr_prob[:,1]\n",
    "\n",
    "        curr_prob_all[idxK==k] = curr_prob\n",
    "        \n",
    "        # calculate score (AUROC)\n",
    "        curr_score = metrics.roc_auc_score(y[idxK == k], curr_prob)\n",
    "\n",
    "        # add score to list of scores\n",
    "        hospital_auroc[h].append(curr_score)\n",
    "\n",
    "        # also get SMR\n",
    "        hospital_smr[h].append(np.sum(y[idxK == k]) / np.sum(curr_prob))\n",
    "\n",
    "    print('{} - Finished {} of {}. AUROC {:0.3f}.'.format(\n",
    "        dt.datetime.now(), i+1, len(hosp_list), np.mean(hospital_auroc[h])))"
   ]
  },
  {
   "cell_type": "code",
   "execution_count": 47,
   "metadata": {},
   "outputs": [
    {
     "data": {
      "image/png": "[encoded data removed]",
      "text/plain": [
       "<Figure size 720x432 with 1 Axes>"
      ]
     },
     "metadata": {},
     "output_type": "display_data"
    }
   ],
   "source": [
    "df_h = pd.DataFrame.from_dict(hospital_auroc,orient='index')\n",
    "df_h.columns = ['auc0', 'auc1','auc2','auc3','auc4']\n",
    "df_h['auc_cv'] = df_h.mean(axis=1)\n",
    "\n",
    "df_h = df_h.merge(h_stats, how='inner', left_index=True, right_index=True)\n",
    "\n",
    "# create a histogram\n",
    "plt.figure(figsize=[10,6])\n",
    "plt.hist(df_h['auc_cv'] - df_h['auc'], bins=np.linspace(-0.2, 0.2, 21))\n",
    "plt.xlabel('AUROC improvement ')\n",
    "plt.ylabel('Number of hospitals')\n",
    "plt.show()"
   ]
  },
  {
   "cell_type": "code",
   "execution_count": 57,
   "metadata": {},
   "outputs": [
    {
     "data": {
      "text/plain": [
       "array([[1.        , 0.30830412],\n",
       "       [0.30830412, 1.        ]])"
      ]
     },
     "execution_count": 57,
     "metadata": {},
     "output_type": "execute_result"
    }
   ],
   "source": [
    "np.corrcoef(df_h['auc_cv'], df_h['count'])"
   ]
  },
  {
   "cell_type": "code",
   "execution_count": 54,
   "metadata": {},
   "outputs": [
    {
     "data": {
      "text/plain": [
       "23"
      ]
     },
     "execution_count": 54,
     "metadata": {},
     "output_type": "execute_result"
    }
   ],
   "source": [
    "((df_h['auc_cv'] - df_h['auc'])>0).sum()"
   ]
  },
  {
   "cell_type": "code",
   "execution_count": 48,
   "metadata": {},
   "outputs": [],
   "source": [
    "np.random.seed(5784)\n",
    "\n",
    "# parameters from grid search\n",
    "models = {'l2': linear_model.LogisticRegressionCV(n_jobs=4),\n",
    "          'xgb': xgb.XGBClassifier(colsample_bytree=0.7, silent=1,\n",
    "                            learning_rate=0.01, n_estimators=1000,\n",
    "                            subsample=0.8, max_depth=9, n_jobs=4)\n",
    "         }\n",
    "\n",
    "# choose a model\n",
    "mdl = 'l2'\n",
    "K = 5\n",
    "\n",
    "# get most frequent hospital\n",
    "h_big = df_eicu['hospitalid'].value_counts()\n",
    "h_big = h_big.idxmax()\n",
    "\n",
    "# train model on top h\n",
    "idxKeep = df_eicu['hospitalid'] == h_big\n",
    "\n",
    "# get current hosp data\n",
    "X = X_eicu[idxKeep, :]\n",
    "y = y_eicu[idxKeep]\n",
    "\n",
    "\n",
    "if mdl == 'xgb':\n",
    "    # no pre-processing of data necessary for xgb\n",
    "    estimator = Pipeline([(mdl, models[mdl])])\n",
    "\n",
    "else:\n",
    "    estimator = Pipeline([(\"imputer\", Imputer(missing_values='NaN',\n",
    "                                      strategy=\"mean\",\n",
    "                                      axis=0)),\n",
    "                  (\"scaler\", StandardScaler()),\n",
    "                  (mdl, models[mdl])])\n",
    "\n",
    "# get prediction on this dataset\n",
    "curr_mdl = sklearn.base.clone(estimator).fit(X, y)\n",
    "\n",
    "hospital_auroc_s = dict()\n",
    "hospital_smr_s = dict()\n",
    "\n",
    "# now apply to all other hospitals\n",
    "for i, h in enumerate(hosp_list):\n",
    "    idxKeep = df_eicu['hospitalid'] == h\n",
    "    \n",
    "    # get current hosp data\n",
    "    X = X_eicu[idxKeep, :]\n",
    "    y = y_eicu[idxKeep]\n",
    "    \n",
    "    # get prediction on this dataset\n",
    "    if mdl in ('lasso','ridge'):\n",
    "        curr_prob = curr_mdl.predict(X)\n",
    "    else:\n",
    "        curr_prob = curr_mdl.predict_proba(X)\n",
    "        curr_prob = curr_prob[:,1]\n",
    "        \n",
    "    # calculate score (AUROC)\n",
    "    curr_score = metrics.roc_auc_score(y, curr_prob)\n",
    "\n",
    "    # add score to list of scores\n",
    "    hospital_auroc_s[h] = curr_score\n",
    "\n",
    "    # also get SMR\n",
    "    hospital_smr_s[h] = np.sum(y) / np.sum(curr_prob)"
   ]
  },
  {
   "cell_type": "code",
   "execution_count": 46,
   "metadata": {},
   "outputs": [
    {
     "data": {
      "image/png": "[encoded data removed]",
      "text/plain": [
       "<Figure size 720x432 with 1 Axes>"
      ]
     },
     "metadata": {},
     "output_type": "display_data"
    }
   ],
   "source": [
    "df_h_s = pd.DataFrame.from_dict(hospital_auroc_s,orient='index')\n",
    "df_h_s.columns = ['auc_cv']\n",
    "\n",
    "df_h_s = df_h_s.merge(h_stats, how='inner', left_index=True, right_index=True)\n",
    "df_h_s.drop(h_big,axis=0,inplace=True)\n",
    "# create a histogram\n",
    "plt.figure(figsize=[10,6])\n",
    "plt.hist(df_h_s['auc_cv'] - df_h_s['auc'], bins=np.linspace(-0.1, 0.1, 21))\n",
    "plt.xticks(np.linspace(-0.1, 0.1, 5))\n",
    "plt.xlabel('AUROC improvement ')\n",
    "plt.ylabel('Number of hospitals')\n",
    "plt.show()"
   ]
  },
  {
   "cell_type": "code",
   "execution_count": 62,
   "metadata": {},
   "outputs": [
    {
     "data": {
      "text/plain": [
       "0.7333333333333333"
      ]
     },
     "execution_count": 62,
     "metadata": {},
     "output_type": "execute_result"
    }
   ],
   "source": [
    "((df_h_s['auc_cv'] - df_h_s['auc'])>0).mean()"
   ]
  },
  {
   "cell_type": "code",
   "execution_count": 63,
   "metadata": {},
   "outputs": [
    {
     "data": {
      "text/plain": [
       "0.013152075571310921"
      ]
     },
     "execution_count": 63,
     "metadata": {},
     "output_type": "execute_result"
    }
   ],
   "source": [
    "((df_h_s['auc_cv'] - df_h_s['auc'])).mean()"
   ]
  },
  {
   "cell_type": "code",
   "execution_count": 60,
   "metadata": {},
   "outputs": [
    {
     "data": {
      "text/plain": [
       "array([[1.        , 0.17036971],\n",
       "       [0.17036971, 1.        ]])"
      ]
     },
     "execution_count": 60,
     "metadata": {},
     "output_type": "execute_result"
    }
   ],
   "source": [
    "np.corrcoef(df_h_s['auc_cv'], df_h_s['count'])"
   ]
  },
  {
   "cell_type": "markdown",
   "metadata": {},
   "source": [
    "## Save cross-validation performance to file"
   ]
  },
  {
   "cell_type": "code",
   "execution_count": 4,
   "metadata": {},
   "outputs": [],
   "source": [
    "with open('model-performance-cv.csv', 'w') as fp:\n",
    "    fp.write('{},{},{}\\n'.format('model','auc','smr'))\n",
    "    for mdl in results_val:\n",
    "        fp.write('{}'.format(mdl))\n",
    "        fp.write(',{}'.format(np.mean(results_val[mdl])))\n",
    "        fp.write(',{}'.format(np.mean(smr_val[mdl])))\n",
    "        fp.write('\\n')"
   ]
  }
 ],
 "metadata": {
  "kernelspec": {
   "display_name": "icu-model-transfer",
   "language": "python",
   "name": "icu-model-transfer"
  },
  "language_info": {
   "codemirror_mode": {
    "name": "ipython",
    "version": 3
   },
   "file_extension": ".py",
   "mimetype": "text/x-python",
   "name": "python",
   "nbconvert_exporter": "python",
   "pygments_lexer": "ipython3",
   "version": "3.5.2"
  }
 },
 "nbformat": 4,
 "nbformat_minor": 1
}
